{
 "cells": [
  {
   "cell_type": "markdown",
   "id": "0df7a782",
   "metadata": {},
   "source": [
    "# Ways to add new column to existing DataFrame\n",
    "* Create a list of items and make a column\n",
    "* insert()\n",
    "* assign"
   ]
  },
  {
   "cell_type": "code",
   "execution_count": 1,
   "id": "f3ab0b2a",
   "metadata": {},
   "outputs": [],
   "source": [
    "import pandas as pd"
   ]
  },
  {
   "cell_type": "markdown",
   "id": "b2dc4693",
   "metadata": {},
   "source": [
    "# First we create a dataframe and then perform addition of column"
   ]
  },
  {
   "cell_type": "code",
   "execution_count": 2,
   "id": "d0391302",
   "metadata": {},
   "outputs": [],
   "source": [
    "df = pd.DataFrame({'State':['UP','PUNJAB','DELHI','HARYANA'],\n",
    "                    'Population(in Cr.)':[22,10,13,14]},index=['Densed','Normal','Very Densed','Low'])"
   ]
  },
  {
   "cell_type": "code",
   "execution_count": 3,
   "id": "74178887",
   "metadata": {},
   "outputs": [
    {
     "data": {
      "text/html": [
       "<div>\n",
       "<style scoped>\n",
       "    .dataframe tbody tr th:only-of-type {\n",
       "        vertical-align: middle;\n",
       "    }\n",
       "\n",
       "    .dataframe tbody tr th {\n",
       "        vertical-align: top;\n",
       "    }\n",
       "\n",
       "    .dataframe thead th {\n",
       "        text-align: right;\n",
       "    }\n",
       "</style>\n",
       "<table border=\"1\" class=\"dataframe\">\n",
       "  <thead>\n",
       "    <tr style=\"text-align: right;\">\n",
       "      <th></th>\n",
       "      <th>State</th>\n",
       "      <th>Population(in Cr.)</th>\n",
       "    </tr>\n",
       "  </thead>\n",
       "  <tbody>\n",
       "    <tr>\n",
       "      <th>Densed</th>\n",
       "      <td>UP</td>\n",
       "      <td>22</td>\n",
       "    </tr>\n",
       "    <tr>\n",
       "      <th>Normal</th>\n",
       "      <td>PUNJAB</td>\n",
       "      <td>10</td>\n",
       "    </tr>\n",
       "    <tr>\n",
       "      <th>Very Densed</th>\n",
       "      <td>DELHI</td>\n",
       "      <td>13</td>\n",
       "    </tr>\n",
       "    <tr>\n",
       "      <th>Low</th>\n",
       "      <td>HARYANA</td>\n",
       "      <td>14</td>\n",
       "    </tr>\n",
       "  </tbody>\n",
       "</table>\n",
       "</div>"
      ],
      "text/plain": [
       "               State  Population(in Cr.)\n",
       "Densed            UP                  22\n",
       "Normal        PUNJAB                  10\n",
       "Very Densed    DELHI                  13\n",
       "Low          HARYANA                  14"
      ]
     },
     "execution_count": 3,
     "metadata": {},
     "output_type": "execute_result"
    }
   ],
   "source": [
    "df"
   ]
  },
  {
   "cell_type": "markdown",
   "id": "36b131b6",
   "metadata": {},
   "source": [
    "# Method-1: Create a list of items and make that column"
   ]
  },
  {
   "cell_type": "code",
   "execution_count": 4,
   "id": "24183f97",
   "metadata": {},
   "outputs": [],
   "source": [
    "# Now we want to add one column. Literacy rate is the column name\n",
    "Literacy = [73,71.4,79.8,67]"
   ]
  },
  {
   "cell_type": "code",
   "execution_count": 5,
   "id": "68d7b50e",
   "metadata": {},
   "outputs": [],
   "source": [
    "df['Literacy Rate']=Literacy"
   ]
  },
  {
   "cell_type": "code",
   "execution_count": 6,
   "id": "eafeb94f",
   "metadata": {},
   "outputs": [
    {
     "data": {
      "text/html": [
       "<div>\n",
       "<style scoped>\n",
       "    .dataframe tbody tr th:only-of-type {\n",
       "        vertical-align: middle;\n",
       "    }\n",
       "\n",
       "    .dataframe tbody tr th {\n",
       "        vertical-align: top;\n",
       "    }\n",
       "\n",
       "    .dataframe thead th {\n",
       "        text-align: right;\n",
       "    }\n",
       "</style>\n",
       "<table border=\"1\" class=\"dataframe\">\n",
       "  <thead>\n",
       "    <tr style=\"text-align: right;\">\n",
       "      <th></th>\n",
       "      <th>State</th>\n",
       "      <th>Population(in Cr.)</th>\n",
       "      <th>Literacy Rate</th>\n",
       "    </tr>\n",
       "  </thead>\n",
       "  <tbody>\n",
       "    <tr>\n",
       "      <th>Densed</th>\n",
       "      <td>UP</td>\n",
       "      <td>22</td>\n",
       "      <td>73.0</td>\n",
       "    </tr>\n",
       "    <tr>\n",
       "      <th>Normal</th>\n",
       "      <td>PUNJAB</td>\n",
       "      <td>10</td>\n",
       "      <td>71.4</td>\n",
       "    </tr>\n",
       "    <tr>\n",
       "      <th>Very Densed</th>\n",
       "      <td>DELHI</td>\n",
       "      <td>13</td>\n",
       "      <td>79.8</td>\n",
       "    </tr>\n",
       "    <tr>\n",
       "      <th>Low</th>\n",
       "      <td>HARYANA</td>\n",
       "      <td>14</td>\n",
       "      <td>67.0</td>\n",
       "    </tr>\n",
       "  </tbody>\n",
       "</table>\n",
       "</div>"
      ],
      "text/plain": [
       "               State  Population(in Cr.)  Literacy Rate\n",
       "Densed            UP                  22           73.0\n",
       "Normal        PUNJAB                  10           71.4\n",
       "Very Densed    DELHI                  13           79.8\n",
       "Low          HARYANA                  14           67.0"
      ]
     },
     "execution_count": 6,
     "metadata": {},
     "output_type": "execute_result"
    }
   ],
   "source": [
    "df"
   ]
  },
  {
   "cell_type": "markdown",
   "id": "f321b214",
   "metadata": {},
   "source": [
    "# Method-2: Using  insert() function\n",
    "\n",
    "**Syntax** \n",
    "\n",
    "    df.insert(location, column name, items, TRUE)"
   ]
  },
  {
   "cell_type": "code",
   "execution_count": 8,
   "id": "a0eb74c7",
   "metadata": {},
   "outputs": [],
   "source": [
    "# We will add new column using insert function\n",
    "df.insert(3,'Male (in Cr.)',[10.5,1.6,0.9,1.4])\n"
   ]
  },
  {
   "cell_type": "code",
   "execution_count": 9,
   "id": "5cb5dca9",
   "metadata": {},
   "outputs": [
    {
     "data": {
      "text/html": [
       "<div>\n",
       "<style scoped>\n",
       "    .dataframe tbody tr th:only-of-type {\n",
       "        vertical-align: middle;\n",
       "    }\n",
       "\n",
       "    .dataframe tbody tr th {\n",
       "        vertical-align: top;\n",
       "    }\n",
       "\n",
       "    .dataframe thead th {\n",
       "        text-align: right;\n",
       "    }\n",
       "</style>\n",
       "<table border=\"1\" class=\"dataframe\">\n",
       "  <thead>\n",
       "    <tr style=\"text-align: right;\">\n",
       "      <th></th>\n",
       "      <th>State</th>\n",
       "      <th>Population(in Cr.)</th>\n",
       "      <th>Literacy Rate</th>\n",
       "      <th>Male (in Cr.)</th>\n",
       "    </tr>\n",
       "  </thead>\n",
       "  <tbody>\n",
       "    <tr>\n",
       "      <th>Densed</th>\n",
       "      <td>UP</td>\n",
       "      <td>22</td>\n",
       "      <td>73.0</td>\n",
       "      <td>10.5</td>\n",
       "    </tr>\n",
       "    <tr>\n",
       "      <th>Normal</th>\n",
       "      <td>PUNJAB</td>\n",
       "      <td>10</td>\n",
       "      <td>71.4</td>\n",
       "      <td>1.6</td>\n",
       "    </tr>\n",
       "    <tr>\n",
       "      <th>Very Densed</th>\n",
       "      <td>DELHI</td>\n",
       "      <td>13</td>\n",
       "      <td>79.8</td>\n",
       "      <td>0.9</td>\n",
       "    </tr>\n",
       "    <tr>\n",
       "      <th>Low</th>\n",
       "      <td>HARYANA</td>\n",
       "      <td>14</td>\n",
       "      <td>67.0</td>\n",
       "      <td>1.4</td>\n",
       "    </tr>\n",
       "  </tbody>\n",
       "</table>\n",
       "</div>"
      ],
      "text/plain": [
       "               State  Population(in Cr.)  Literacy Rate  Male (in Cr.)\n",
       "Densed            UP                  22           73.0           10.5\n",
       "Normal        PUNJAB                  10           71.4            1.6\n",
       "Very Densed    DELHI                  13           79.8            0.9\n",
       "Low          HARYANA                  14           67.0            1.4"
      ]
     },
     "execution_count": 9,
     "metadata": {},
     "output_type": "execute_result"
    }
   ],
   "source": [
    "df"
   ]
  },
  {
   "cell_type": "markdown",
   "id": "62187dbf",
   "metadata": {},
   "source": [
    "# Method- 3: Using assign() function\n",
    "**Syntax**\n",
    "   \n",
    "         df.assign()\n",
    " In this we create a new dataframe and append a new column to the DataFrame"
   ]
  },
  {
   "cell_type": "code",
   "execution_count": 14,
   "id": "d9ac3942",
   "metadata": {},
   "outputs": [],
   "source": [
    "df1=df.assign(Female=[9.5,1.2,0.7,1.12])"
   ]
  },
  {
   "cell_type": "code",
   "execution_count": 15,
   "id": "6800cf87",
   "metadata": {},
   "outputs": [
    {
     "data": {
      "text/html": [
       "<div>\n",
       "<style scoped>\n",
       "    .dataframe tbody tr th:only-of-type {\n",
       "        vertical-align: middle;\n",
       "    }\n",
       "\n",
       "    .dataframe tbody tr th {\n",
       "        vertical-align: top;\n",
       "    }\n",
       "\n",
       "    .dataframe thead th {\n",
       "        text-align: right;\n",
       "    }\n",
       "</style>\n",
       "<table border=\"1\" class=\"dataframe\">\n",
       "  <thead>\n",
       "    <tr style=\"text-align: right;\">\n",
       "      <th></th>\n",
       "      <th>State</th>\n",
       "      <th>Population(in Cr.)</th>\n",
       "      <th>Literacy Rate</th>\n",
       "      <th>Male (in Cr.)</th>\n",
       "      <th>Female</th>\n",
       "    </tr>\n",
       "  </thead>\n",
       "  <tbody>\n",
       "    <tr>\n",
       "      <th>Densed</th>\n",
       "      <td>UP</td>\n",
       "      <td>22</td>\n",
       "      <td>73.0</td>\n",
       "      <td>10.5</td>\n",
       "      <td>9.50</td>\n",
       "    </tr>\n",
       "    <tr>\n",
       "      <th>Normal</th>\n",
       "      <td>PUNJAB</td>\n",
       "      <td>10</td>\n",
       "      <td>71.4</td>\n",
       "      <td>1.6</td>\n",
       "      <td>1.20</td>\n",
       "    </tr>\n",
       "    <tr>\n",
       "      <th>Very Densed</th>\n",
       "      <td>DELHI</td>\n",
       "      <td>13</td>\n",
       "      <td>79.8</td>\n",
       "      <td>0.9</td>\n",
       "      <td>0.70</td>\n",
       "    </tr>\n",
       "    <tr>\n",
       "      <th>Low</th>\n",
       "      <td>HARYANA</td>\n",
       "      <td>14</td>\n",
       "      <td>67.0</td>\n",
       "      <td>1.4</td>\n",
       "      <td>1.12</td>\n",
       "    </tr>\n",
       "  </tbody>\n",
       "</table>\n",
       "</div>"
      ],
      "text/plain": [
       "               State  Population(in Cr.)  Literacy Rate  Male (in Cr.)  Female\n",
       "Densed            UP                  22           73.0           10.5    9.50\n",
       "Normal        PUNJAB                  10           71.4            1.6    1.20\n",
       "Very Densed    DELHI                  13           79.8            0.9    0.70\n",
       "Low          HARYANA                  14           67.0            1.4    1.12"
      ]
     },
     "execution_count": 15,
     "metadata": {},
     "output_type": "execute_result"
    }
   ],
   "source": [
    "df1"
   ]
  },
  {
   "cell_type": "code",
   "execution_count": null,
   "id": "c9b8e3ad",
   "metadata": {},
   "outputs": [],
   "source": []
  }
 ],
 "metadata": {
  "kernelspec": {
   "display_name": "Python 3",
   "language": "python",
   "name": "python3"
  },
  "language_info": {
   "codemirror_mode": {
    "name": "ipython",
    "version": 3
   },
   "file_extension": ".py",
   "mimetype": "text/x-python",
   "name": "python",
   "nbconvert_exporter": "python",
   "pygments_lexer": "ipython3",
   "version": "3.8.8"
  }
 },
 "nbformat": 4,
 "nbformat_minor": 5
}
