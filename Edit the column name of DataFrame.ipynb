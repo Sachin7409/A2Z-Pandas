{
 "cells": [
  {
   "cell_type": "code",
   "execution_count": 1,
   "id": "61c11af1",
   "metadata": {},
   "outputs": [],
   "source": [
    "import pandas as pd"
   ]
  },
  {
   "cell_type": "code",
   "execution_count": 2,
   "id": "40adafff",
   "metadata": {},
   "outputs": [],
   "source": [
    "df = pd.DataFrame([['sachin','jyoti','akash','kishu'],\n",
    "                    ['Manish','shipra','vandana','simmy'],\n",
    "                    ['ankit','shambawi','shanaya','araluna']],\n",
    "                  columns=['ihcieh','hebei','sduwhih','AJshs'],\n",
    "             index=['best','good','normal'])"
   ]
  },
  {
   "cell_type": "code",
   "execution_count": 3,
   "id": "2e8a735f",
   "metadata": {},
   "outputs": [
    {
     "data": {
      "text/html": [
       "<div>\n",
       "<style scoped>\n",
       "    .dataframe tbody tr th:only-of-type {\n",
       "        vertical-align: middle;\n",
       "    }\n",
       "\n",
       "    .dataframe tbody tr th {\n",
       "        vertical-align: top;\n",
       "    }\n",
       "\n",
       "    .dataframe thead th {\n",
       "        text-align: right;\n",
       "    }\n",
       "</style>\n",
       "<table border=\"1\" class=\"dataframe\">\n",
       "  <thead>\n",
       "    <tr style=\"text-align: right;\">\n",
       "      <th></th>\n",
       "      <th>ihcieh</th>\n",
       "      <th>hebei</th>\n",
       "      <th>sduwhih</th>\n",
       "      <th>AJshs</th>\n",
       "    </tr>\n",
       "  </thead>\n",
       "  <tbody>\n",
       "    <tr>\n",
       "      <th>best</th>\n",
       "      <td>sachin</td>\n",
       "      <td>jyoti</td>\n",
       "      <td>akash</td>\n",
       "      <td>kishu</td>\n",
       "    </tr>\n",
       "    <tr>\n",
       "      <th>good</th>\n",
       "      <td>Manish</td>\n",
       "      <td>shipra</td>\n",
       "      <td>vandana</td>\n",
       "      <td>simmy</td>\n",
       "    </tr>\n",
       "    <tr>\n",
       "      <th>normal</th>\n",
       "      <td>ankit</td>\n",
       "      <td>shambawi</td>\n",
       "      <td>shanaya</td>\n",
       "      <td>araluna</td>\n",
       "    </tr>\n",
       "  </tbody>\n",
       "</table>\n",
       "</div>"
      ],
      "text/plain": [
       "        ihcieh     hebei  sduwhih    AJshs\n",
       "best    sachin     jyoti    akash    kishu\n",
       "good    Manish    shipra  vandana    simmy\n",
       "normal   ankit  shambawi  shanaya  araluna"
      ]
     },
     "execution_count": 3,
     "metadata": {},
     "output_type": "execute_result"
    }
   ],
   "source": [
    "df"
   ]
  },
  {
   "cell_type": "markdown",
   "id": "f27a3e33",
   "metadata": {},
   "source": [
    "# df.rename(). We can change the column name by using this function"
   ]
  },
  {
   "cell_type": "code",
   "execution_count": 4,
   "id": "e9c934ca",
   "metadata": {},
   "outputs": [],
   "source": [
    "df.rename(columns={'ihcieh':'C1','hebei':'C2'},inplace =True)"
   ]
  },
  {
   "cell_type": "code",
   "execution_count": 5,
   "id": "f3a285ac",
   "metadata": {},
   "outputs": [
    {
     "data": {
      "text/html": [
       "<div>\n",
       "<style scoped>\n",
       "    .dataframe tbody tr th:only-of-type {\n",
       "        vertical-align: middle;\n",
       "    }\n",
       "\n",
       "    .dataframe tbody tr th {\n",
       "        vertical-align: top;\n",
       "    }\n",
       "\n",
       "    .dataframe thead th {\n",
       "        text-align: right;\n",
       "    }\n",
       "</style>\n",
       "<table border=\"1\" class=\"dataframe\">\n",
       "  <thead>\n",
       "    <tr style=\"text-align: right;\">\n",
       "      <th></th>\n",
       "      <th>C1</th>\n",
       "      <th>C2</th>\n",
       "      <th>sduwhih</th>\n",
       "      <th>AJshs</th>\n",
       "    </tr>\n",
       "  </thead>\n",
       "  <tbody>\n",
       "    <tr>\n",
       "      <th>best</th>\n",
       "      <td>sachin</td>\n",
       "      <td>jyoti</td>\n",
       "      <td>akash</td>\n",
       "      <td>kishu</td>\n",
       "    </tr>\n",
       "    <tr>\n",
       "      <th>good</th>\n",
       "      <td>Manish</td>\n",
       "      <td>shipra</td>\n",
       "      <td>vandana</td>\n",
       "      <td>simmy</td>\n",
       "    </tr>\n",
       "    <tr>\n",
       "      <th>normal</th>\n",
       "      <td>ankit</td>\n",
       "      <td>shambawi</td>\n",
       "      <td>shanaya</td>\n",
       "      <td>araluna</td>\n",
       "    </tr>\n",
       "  </tbody>\n",
       "</table>\n",
       "</div>"
      ],
      "text/plain": [
       "            C1        C2  sduwhih    AJshs\n",
       "best    sachin     jyoti    akash    kishu\n",
       "good    Manish    shipra  vandana    simmy\n",
       "normal   ankit  shambawi  shanaya  araluna"
      ]
     },
     "execution_count": 5,
     "metadata": {},
     "output_type": "execute_result"
    }
   ],
   "source": [
    "df"
   ]
  },
  {
   "cell_type": "markdown",
   "id": "928a8ea8",
   "metadata": {},
   "source": [
    "# set_axis() is the second method to change the name of column.\n",
    "\n",
    "we provide a list of column names. In this method all column names change."
   ]
  },
  {
   "cell_type": "code",
   "execution_count": 6,
   "id": "4a22b78e",
   "metadata": {},
   "outputs": [],
   "source": [
    "df.set_axis(['C1','C2','C3','C4'], axis=1, inplace= True)"
   ]
  },
  {
   "cell_type": "code",
   "execution_count": 7,
   "id": "d0e05dcc",
   "metadata": {},
   "outputs": [
    {
     "data": {
      "text/html": [
       "<div>\n",
       "<style scoped>\n",
       "    .dataframe tbody tr th:only-of-type {\n",
       "        vertical-align: middle;\n",
       "    }\n",
       "\n",
       "    .dataframe tbody tr th {\n",
       "        vertical-align: top;\n",
       "    }\n",
       "\n",
       "    .dataframe thead th {\n",
       "        text-align: right;\n",
       "    }\n",
       "</style>\n",
       "<table border=\"1\" class=\"dataframe\">\n",
       "  <thead>\n",
       "    <tr style=\"text-align: right;\">\n",
       "      <th></th>\n",
       "      <th>C1</th>\n",
       "      <th>C2</th>\n",
       "      <th>C3</th>\n",
       "      <th>C4</th>\n",
       "    </tr>\n",
       "  </thead>\n",
       "  <tbody>\n",
       "    <tr>\n",
       "      <th>best</th>\n",
       "      <td>sachin</td>\n",
       "      <td>jyoti</td>\n",
       "      <td>akash</td>\n",
       "      <td>kishu</td>\n",
       "    </tr>\n",
       "    <tr>\n",
       "      <th>good</th>\n",
       "      <td>Manish</td>\n",
       "      <td>shipra</td>\n",
       "      <td>vandana</td>\n",
       "      <td>simmy</td>\n",
       "    </tr>\n",
       "    <tr>\n",
       "      <th>normal</th>\n",
       "      <td>ankit</td>\n",
       "      <td>shambawi</td>\n",
       "      <td>shanaya</td>\n",
       "      <td>araluna</td>\n",
       "    </tr>\n",
       "  </tbody>\n",
       "</table>\n",
       "</div>"
      ],
      "text/plain": [
       "            C1        C2       C3       C4\n",
       "best    sachin     jyoti    akash    kishu\n",
       "good    Manish    shipra  vandana    simmy\n",
       "normal   ankit  shambawi  shanaya  araluna"
      ]
     },
     "execution_count": 7,
     "metadata": {},
     "output_type": "execute_result"
    }
   ],
   "source": [
    "df"
   ]
  },
  {
   "cell_type": "markdown",
   "id": "f30e2974",
   "metadata": {},
   "source": [
    "# Method -3 \n",
    "## Just assigning the column names"
   ]
  },
  {
   "cell_type": "code",
   "execution_count": 8,
   "id": "aaafa3de",
   "metadata": {},
   "outputs": [],
   "source": [
    "df.columns=['C1','C2','Just Friends','C4']"
   ]
  },
  {
   "cell_type": "code",
   "execution_count": 9,
   "id": "4e4cb5a8",
   "metadata": {},
   "outputs": [
    {
     "data": {
      "text/html": [
       "<div>\n",
       "<style scoped>\n",
       "    .dataframe tbody tr th:only-of-type {\n",
       "        vertical-align: middle;\n",
       "    }\n",
       "\n",
       "    .dataframe tbody tr th {\n",
       "        vertical-align: top;\n",
       "    }\n",
       "\n",
       "    .dataframe thead th {\n",
       "        text-align: right;\n",
       "    }\n",
       "</style>\n",
       "<table border=\"1\" class=\"dataframe\">\n",
       "  <thead>\n",
       "    <tr style=\"text-align: right;\">\n",
       "      <th></th>\n",
       "      <th>C1</th>\n",
       "      <th>C2</th>\n",
       "      <th>Just Friends</th>\n",
       "      <th>C4</th>\n",
       "    </tr>\n",
       "  </thead>\n",
       "  <tbody>\n",
       "    <tr>\n",
       "      <th>best</th>\n",
       "      <td>sachin</td>\n",
       "      <td>jyoti</td>\n",
       "      <td>akash</td>\n",
       "      <td>kishu</td>\n",
       "    </tr>\n",
       "    <tr>\n",
       "      <th>good</th>\n",
       "      <td>Manish</td>\n",
       "      <td>shipra</td>\n",
       "      <td>vandana</td>\n",
       "      <td>simmy</td>\n",
       "    </tr>\n",
       "    <tr>\n",
       "      <th>normal</th>\n",
       "      <td>ankit</td>\n",
       "      <td>shambawi</td>\n",
       "      <td>shanaya</td>\n",
       "      <td>araluna</td>\n",
       "    </tr>\n",
       "  </tbody>\n",
       "</table>\n",
       "</div>"
      ],
      "text/plain": [
       "            C1        C2 Just Friends       C4\n",
       "best    sachin     jyoti        akash    kishu\n",
       "good    Manish    shipra      vandana    simmy\n",
       "normal   ankit  shambawi      shanaya  araluna"
      ]
     },
     "execution_count": 9,
     "metadata": {},
     "output_type": "execute_result"
    }
   ],
   "source": [
    "df"
   ]
  },
  {
   "cell_type": "code",
   "execution_count": null,
   "id": "21c5bb9d",
   "metadata": {},
   "outputs": [],
   "source": []
  }
 ],
 "metadata": {
  "kernelspec": {
   "display_name": "Python 3",
   "language": "python",
   "name": "python3"
  },
  "language_info": {
   "codemirror_mode": {
    "name": "ipython",
    "version": 3
   },
   "file_extension": ".py",
   "mimetype": "text/x-python",
   "name": "python",
   "nbconvert_exporter": "python",
   "pygments_lexer": "ipython3",
   "version": "3.8.8"
  }
 },
 "nbformat": 4,
 "nbformat_minor": 5
}
